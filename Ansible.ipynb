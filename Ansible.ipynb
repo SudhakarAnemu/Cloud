{
  "nbformat": 4,
  "nbformat_minor": 0,
  "metadata": {
    "colab": {
      "name": "Ansible.ipynb",
      "provenance": []
    },
    "kernelspec": {
      "name": "python3",
      "display_name": "Python 3"
    }
  },
  "cells": [
    {
      "cell_type": "markdown",
      "metadata": {
        "id": "NkqeO_sZyV84"
      },
      "source": [
        "#JS"
      ]
    },
    {
      "cell_type": "markdown",
      "metadata": {
        "id": "_og-8AM2zWVZ"
      },
      "source": [
        "Below code is to find the list of rpm packages. "
      ]
    },
    {
      "cell_type": "code",
      "metadata": {
        "id": "1OcFqEUdyAoB",
        "colab": {
          "base_uri": "https://localhost:8080/",
          "height": 129
        },
        "outputId": "149e7384-b28b-498e-e7fd-9bf36178fcfa"
      },
      "source": [
        "-\n",
        "   name: List out MQ packages\n",
        "   hosts: all\n",
        "   tasks:\n",
        "\n",
        "       - name: Get the hostname\n",
        "         command: /bin/hostname\n",
        "         changed_when: False\n",
        "         register: hostname\n",
        "\n",
        "       - name: Verify the WMQ packages\n",
        "         shell: \"rpm -qa | grep MQ\"\n",
        "         register: rpmgit\n",
        "\n",
        "       - debug: var={{ item }}\n",
        "         with_items:\n",
        "           - hostname.stdout\n",
        "           - rpmgit.stdout"
      ],
      "execution_count": 1,
      "outputs": [
        {
          "output_type": "error",
          "ename": "SyntaxError",
          "evalue": "ignored",
          "traceback": [
            "\u001b[0;36m  File \u001b[0;32m\"<ipython-input-1-191dd1c5f9e9>\"\u001b[0;36m, line \u001b[0;32m1\u001b[0m\n\u001b[0;31m    -\u001b[0m\n\u001b[0m     ^\u001b[0m\n\u001b[0;31mSyntaxError\u001b[0m\u001b[0;31m:\u001b[0m invalid syntax\n"
          ]
        }
      ]
    },
    {
      "cell_type": "code",
      "metadata": {
        "id": "F6UK4fa40qMW"
      },
      "source": [
        "-\n",
        "   name: List out MQ packages\n",
        "   hosts: all\n",
        "   tasks:\n",
        "\n",
        "       - name: Get the hostname\n",
        "         command: /bin/hostname\n",
        "         changed_when: False\n",
        "         register: hostname\n",
        "\n",
        "       - name: Verify the WMQ packages\n",
        "         shell: \"rpm -qa | grep MQ\"\n",
        "         register: rpmgit\n",
        "\n",
        "       - name: List out the QMGRs\n",
        "         shell: \"dspmq\"\n",
        "         register: dspmq\n",
        "\n",
        "       - debug: var={{ item }}\n",
        "         with_items:\n",
        "           - hostname.stdout\n",
        "           - rpmgit.stdout\n",
        "           - dspmq.stdout"
      ],
      "execution_count": null,
      "outputs": []
    },
    {
      "cell_type": "markdown",
      "metadata": {
        "id": "6n67eT890Bf4"
      },
      "source": [
        "I ran this play book on local system where it hits to AWS system finds the code. "
      ]
    },
    {
      "cell_type": "markdown",
      "metadata": {
        "id": "z4f2Ybqq0m8H"
      },
      "source": [
        "[ansadmin@oc0248707564 ansconfig]$ ansible-playbook mqrpmcheck.yml \n",
        "\n",
        "PLAY [List out MQ packages] *************************************************************************************************************************************************\n",
        "\n",
        "TASK [Gathering Facts] ******************************************************************************************************************************************************\n",
        "[WARNING]: Platform linux on host 3.129.245.67 is using the discovered Python interpreter at /usr/bin/python, but future installation of another Python interpreter could\n",
        "change this. See https://docs.ansible.com/ansible/2.9/reference_appendices/interpreter_discovery.html for more information.\n",
        "ok: [3.129.245.67]\n",
        "\n",
        "TASK [Get the hostname] *****************************************************************************************************************************************************\n",
        "ok: [3.129.245.67]\n",
        "\n",
        "TASK [Verify the WMQ packages] **********************************************************************************************************************************************\n",
        "[WARNING]: Consider using the yum, dnf or zypper module rather than running 'rpm'.  If you need to use command because yum, dnf or zypper is insufficient you can add 'warn:\n",
        "false' to this command task or set 'command_warnings=False' in ansible.cfg to get rid of this message.\n",
        "changed: [3.129.245.67]\n",
        "\n",
        "TASK [List out the QMGRs] ***************************************************************************************************************************************************\n",
        "changed: [3.129.245.67]\n",
        "\n",
        "TASK [debug] ****************************************************************************************************************************************************************\n",
        "ok: [3.129.245.67] => (item=hostname.stdout) => {\n",
        "    \"ansible_loop_var\": \"item\", \n",
        "    \"hostname.stdout\": \"ip-172-31-20-215.us-east-2.compute.internal\", \n",
        "    \"item\": \"hostname.stdout\"\n",
        "}\n",
        "ok: [3.129.245.67] => (item=rpmgit.stdout) => {\n",
        "    \"ansible_loop_var\": \"item\", \n",
        "    \"item\": \"rpmgit.stdout\", \n",
        "    \"rpmgit.stdout\": \"MQSeriesClient-9.1.0-0.x86_64\\nMQSeriesSamples-U9106-9.1.0-6.x86_64\\nMQSeriesRuntime-9.1.0-0.x86_64\\nMQSeriesSamples-9.1.0-0.x86_64\\nMQSeriesSDK-9.1.0-0.x86_64\\nMQSeriesServer-U9106-9.1.0-6.x86_64\\nMQSeriesClient-U9106-9.1.0-6.x86_64\\nMQSeriesServer-9.1.0-0.x86_64\\nMQSeriesRuntime-U9106-9.1.0-6.x86_64\\nMQSeriesSDK-U9106-9.1.0-6.x86_64\"\n",
        "}\n",
        "ok: [3.129.245.67] => (item=dspmq.stdout) => {\n",
        "    \"ansible_loop_var\": \"item\", \n",
        "    \"dspmq.stdout\": \"QMNAME(JSQM1)                                             STATUS(Running)\", \n",
        "    \"item\": \"dspmq.stdout\"\n",
        "}\n",
        "\n",
        "PLAY RECAP ******************************************************************************************************************************************************************\n",
        "3.129.245.67               : ok=5    changed=2    unreachable=0    failed=0    skipped=0    rescued=0    ignored=0   \n",
        "\n",
        "[ansadmin@oc0248707564 ansconfig]$ \n"
      ]
    },
    {
      "cell_type": "markdown",
      "metadata": {
        "id": "tXs3hzpNAR4H"
      },
      "source": [
        "# Job Requirements"
      ]
    },
    {
      "cell_type": "markdown",
      "metadata": {
        "id": "d_KJXWIKAUK0"
      },
      "source": [
        "The Role\n",
        "Support and maintain the SuccessFactors systems and infrastructure.\n",
        "Troubleshoot and Perform Linux server administration and respond to incidents.\n",
        "Automate operational activities, tasks and repeatable processes.\n",
        "Contribute with the standards and solutions that supports business needs.\n",
        "Execute system level changes following the ITSM defined processes.\n",
        "Securing servers and closes other security vulnerabilities in the systems.\n",
        "Resolves service requests in the required SLA.\n",
        "Documents Root Cause Analysis for Problem tickets.\n",
        "Deliver projects working with the Global Platform team.\n",
        "Provide after-hours and weekend support on a rotational basis and as needed\n",
        "Role Responsibilities\n",
        "B.E./B.Tech/MTech Computer Science, Information Systems or equivalent experience\n",
        "3-5 years of relate experience\n",
        "Experience and understanding of infrastructure services\n",
        "Experience with infrastructure security, reliability, and fault tolerance\n",
        "System Administration: SLES, RHEL, Windows\n",
        "Automation Tools: Terraform, Chef, Ansible, Powershell\n",
        "Scripting: Python, Perl, and Bash scripting\n",
        "Platform: VMware, Openstack, Azure, GCP\n",
        "Containerization: Kubernetes, Docker\n",
        "Version Control: Github\n",
        "Repos: SUSE repo, YUM, Jfrog\n",
        "Orchestration: Jenkins, Rundeck, Pipelines\n",
        "Load Balancers: Nginx, F5, HA Proxy\n",
        "Hardware: HP, Dell, Cisco UCS, Lenovo servers\n",
        "Storage: NetApp, EMC Extreme IO\n",
        "Good communication skills"
      ]
    },
    {
      "cell_type": "markdown",
      "metadata": {
        "id": "IC8WlNL6DO9T"
      },
      "source": [
        "Minimum Qualifications\n",
        "Bachelor's degree (or above) in engineering/computer science with an overall work experience of 3 - 6 years.\n",
        "Experience in public cloud environment - AWS\n",
        "Experience with automation tools such as Ansible or Terraform\n",
        "Proficient at creating Docker container configurations\n",
        "Experience with container orchestration tools such as Kubernetes\n",
        "Experience with automation tools such as Terraform or CloudFormation\n",
        "Flexibility Ability to take care of short-term requirements as well as long-term goals\n",
        "Knowledge on CI/CD tools like Jenkins/AWS CodeDeploy\n",
        "Hands-on exposure to automation with proficiency in at least one programming language\n",
        "Experience in Monitoring tools like Nagios"
      ]
    },
    {
      "cell_type": "markdown",
      "metadata": {
        "id": "9Ej16y7bDpQq"
      },
      "source": [
        "Job Summary:\n",
        "\n",
        "● Develop / Design effective and scalable solutions to administrate Data clusters, large-scale operations, and infrastructure systems.\n",
        "\n",
        "● Architect systems, infrastructure and platforms using Linux and Amazon web services to support applications.\n",
        "\n",
        "● Own and deliver the implementation of new methods for systems, deployment, monitoring, management, and automation.\n",
        "\n",
        "● Technical depth – Exposure to a wide variety of problem-solving skills and respective automation.\n",
        "\n",
        "● Devise schemes to transfer, monitor, and verify terabytes of data are moved from diverse locations, securely and reliably.\n",
        "\n",
        "● Real-time problem diagnosis/resolution on live systems\n",
        "\n",
        "● Monitor grid health and performance, use critical thinking to find areas for improvement, develop monitoring framework and metrics in order to predict system behaviour pro-actively and take appropriate steps.\n",
        "\n",
        "● Capacity planning(cloud), provisioning new resources, ability to understand various capacity parameters and its cardinality\n",
        "\n",
        "● Infrastructure and platform security.\n",
        "\n",
        "● Infrastructure and platform cost management.\n",
        "\n",
        "● participate in on-call rotation using pagerduty\n",
        "\n",
        "\n",
        "Experience Needed:\n",
        "\n",
        "●Minimum 3+ years in DevOps role with AWS & Production Deployment experience must.\n",
        "\n",
        "● In-depth Linux/Unix knowledge, good understanding the various Linux kernel subsystems (memory, storage, network etc).\n",
        "\n",
        "● Amazon Web Services 3. DNS, TCP/IP, Routing, HA & Load Balancing. Configuration management using tools like Ansible, Salt\n",
        "\n",
        "● HA and Load balancing using tools like the Elastic Load Balancer and HAProxy.\n",
        "\n",
        "● Monitoring tools like sensu, services like datadog, new relic\n",
        "\n",
        "● Log management tools like Logstash/Syslog/ElasticSearch or similar.\n",
        "\n",
        "● Metrics collection tools like Ganglia, Graphite, OpenTSDB or similar.\n",
        "\n",
        "● Good understanding of distributed systems like kafka, zookeeper\n",
        "\n",
        "● Good understanding of building immutable infrastructures using packer, terraform\n",
        "\n",
        "● automation experience using python/ruby/go\n",
        "\n",
        "● Good understanding of Linux containers(docker, coreos) and orchestration technologies like Kubernetes , docker swarm."
      ]
    }
  ]
}